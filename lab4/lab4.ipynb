{
 "nbformat": 4,
 "nbformat_minor": 0,
 "metadata": {
  "kernelspec": {
   "display_name": "Python 3",
   "language": "python",
   "name": "python3"
  },
  "language_info": {
   "codemirror_mode": {
    "name": "ipython",
    "version": 3
   },
   "file_extension": ".py",
   "mimetype": "text/x-python",
   "name": "python",
   "nbconvert_exporter": "python",
   "pygments_lexer": "ipython3",
   "version": "3.6.3"
  },
  "colab": {
   "provenance": []
  }
 },
 "cells": [
  {
   "cell_type": "code",
   "metadata": {
    "id": "w-OkhzbjMrfb",
    "outputId": "dad82d05-0b10-49f5-f430-c76417e1d878",
    "colab": {
     "base_uri": "https://localhost:8080/"
    },
    "ExecuteTime": {
     "end_time": "2024-11-04T16:29:17.888965400Z",
     "start_time": "2024-11-04T16:29:13.181766Z"
    }
   },
   "source": [
    "# устанавливаем нужную версию библиотеки sklearn, чтобы ответы сошлись\n",
    "!pip install scikit-learn"
   ],
   "execution_count": 1,
   "outputs": [
    {
     "name": "stdout",
     "output_type": "stream",
     "text": [
      "Requirement already satisfied: scikit-learn in c:\\users\\admin\\desktop\\machinelearning\\lib\\site-packages (1.5.2)\n",
      "Requirement already satisfied: numpy>=1.19.5 in c:\\users\\admin\\desktop\\machinelearning\\lib\\site-packages (from scikit-learn) (2.0.2)\n",
      "Requirement already satisfied: scipy>=1.6.0 in c:\\users\\admin\\desktop\\machinelearning\\lib\\site-packages (from scikit-learn) (1.14.1)\n",
      "Requirement already satisfied: joblib>=1.2.0 in c:\\users\\admin\\desktop\\machinelearning\\lib\\site-packages (from scikit-learn) (1.4.2)\n",
      "Requirement already satisfied: threadpoolctl>=3.1.0 in c:\\users\\admin\\desktop\\machinelearning\\lib\\site-packages (from scikit-learn) (3.5.0)\n"
     ]
    },
    {
     "name": "stderr",
     "output_type": "stream",
     "text": [
      "\n",
      "[notice] A new release of pip is available: 24.0 -> 24.3.1\n",
      "[notice] To update, run: python.exe -m pip install --upgrade pip\n"
     ]
    }
   ]
  },
  {
   "cell_type": "code",
   "metadata": {
    "id": "GlYLS9t3-Y0T",
    "ExecuteTime": {
     "end_time": "2024-11-04T16:29:18.280761200Z",
     "start_time": "2024-11-04T16:29:17.888965400Z"
    }
   },
   "source": [
    "import numpy as np\n",
    "import pandas as pd"
   ],
   "execution_count": 2,
   "outputs": []
  },
  {
   "cell_type": "markdown",
   "metadata": {
    "id": "cYMVB5Yx-Y0W"
   },
   "source": [
    "В этом задании вы будете работать с [данными о пациентах, у части которых есть заболевание сердца](https://www.kaggle.com/datasets/redwankarimsony/heart-disease-data). Вам нужно построить модель, классифицирующую пациентов на больных этим заболеванием и тех, у кого его нет, а также проанализировать результаты."
   ]
  },
  {
   "cell_type": "code",
   "metadata": {
    "id": "X6qnhkcC-Y0W",
    "outputId": "0a94ef9c-0df1-4f67-bbc9-0d76b3d85631",
    "colab": {
     "base_uri": "https://localhost:8080/",
     "height": 206
    },
    "ExecuteTime": {
     "end_time": "2024-11-04T16:29:18.336152600Z",
     "start_time": "2024-11-04T16:29:18.280761200Z"
    }
   },
   "source": [
    "data = pd.read_csv('heart.csv')\n",
    "data.head()"
   ],
   "execution_count": 3,
   "outputs": [
    {
     "data": {
      "text/plain": "   age  sex  cp  trestbps  chol  fbs  restecg  thalach  exang  oldpeak  slope  \\\n0   63    1   3       145   233    1        0      150      0      2.3      0   \n1   37    1   2       130   250    0        1      187      0      3.5      0   \n2   41    0   1       130   204    0        0      172      0      1.4      2   \n3   56    1   1       120   236    0        1      178      0      0.8      2   \n4   57    0   0       120   354    0        1      163      1      0.6      2   \n\n   ca  thal  target  \n0   0     1       1  \n1   0     2       1  \n2   0     2       1  \n3   0     2       1  \n4   0     2       1  ",
      "text/html": "<div>\n<style scoped>\n    .dataframe tbody tr th:only-of-type {\n        vertical-align: middle;\n    }\n\n    .dataframe tbody tr th {\n        vertical-align: top;\n    }\n\n    .dataframe thead th {\n        text-align: right;\n    }\n</style>\n<table border=\"1\" class=\"dataframe\">\n  <thead>\n    <tr style=\"text-align: right;\">\n      <th></th>\n      <th>age</th>\n      <th>sex</th>\n      <th>cp</th>\n      <th>trestbps</th>\n      <th>chol</th>\n      <th>fbs</th>\n      <th>restecg</th>\n      <th>thalach</th>\n      <th>exang</th>\n      <th>oldpeak</th>\n      <th>slope</th>\n      <th>ca</th>\n      <th>thal</th>\n      <th>target</th>\n    </tr>\n  </thead>\n  <tbody>\n    <tr>\n      <th>0</th>\n      <td>63</td>\n      <td>1</td>\n      <td>3</td>\n      <td>145</td>\n      <td>233</td>\n      <td>1</td>\n      <td>0</td>\n      <td>150</td>\n      <td>0</td>\n      <td>2.3</td>\n      <td>0</td>\n      <td>0</td>\n      <td>1</td>\n      <td>1</td>\n    </tr>\n    <tr>\n      <th>1</th>\n      <td>37</td>\n      <td>1</td>\n      <td>2</td>\n      <td>130</td>\n      <td>250</td>\n      <td>0</td>\n      <td>1</td>\n      <td>187</td>\n      <td>0</td>\n      <td>3.5</td>\n      <td>0</td>\n      <td>0</td>\n      <td>2</td>\n      <td>1</td>\n    </tr>\n    <tr>\n      <th>2</th>\n      <td>41</td>\n      <td>0</td>\n      <td>1</td>\n      <td>130</td>\n      <td>204</td>\n      <td>0</td>\n      <td>0</td>\n      <td>172</td>\n      <td>0</td>\n      <td>1.4</td>\n      <td>2</td>\n      <td>0</td>\n      <td>2</td>\n      <td>1</td>\n    </tr>\n    <tr>\n      <th>3</th>\n      <td>56</td>\n      <td>1</td>\n      <td>1</td>\n      <td>120</td>\n      <td>236</td>\n      <td>0</td>\n      <td>1</td>\n      <td>178</td>\n      <td>0</td>\n      <td>0.8</td>\n      <td>2</td>\n      <td>0</td>\n      <td>2</td>\n      <td>1</td>\n    </tr>\n    <tr>\n      <th>4</th>\n      <td>57</td>\n      <td>0</td>\n      <td>0</td>\n      <td>120</td>\n      <td>354</td>\n      <td>0</td>\n      <td>1</td>\n      <td>163</td>\n      <td>1</td>\n      <td>0.6</td>\n      <td>2</td>\n      <td>0</td>\n      <td>2</td>\n      <td>1</td>\n    </tr>\n  </tbody>\n</table>\n</div>"
     },
     "execution_count": 3,
     "metadata": {},
     "output_type": "execute_result"
    }
   ]
  },
  {
   "cell_type": "markdown",
   "metadata": {
    "id": "vSEr-DrP-Y0Z"
   },
   "source": [
    "1. Какой процент пациентов из представленных в данных имеет заболевание сердца (`'target' = 1`)? Ответ округлите до двух знаков после запятой."
   ]
  },
  {
   "cell_type": "code",
   "metadata": {
    "id": "zTmRguplRkee",
    "colab": {
     "base_uri": "https://localhost:8080/"
    },
    "outputId": "36761c25-a269-4f8d-e407-b35a51633165",
    "ExecuteTime": {
     "end_time": "2024-11-04T16:29:18.336152600Z",
     "start_time": "2024-11-04T16:29:18.316532100Z"
    }
   },
   "source": [
    "# Подсчет общего числа пациентов и пациентов с заболеванием сердца\n",
    "total_patients = len(data)\n",
    "heart_disease_patients = data[data['target'] == 1].shape[0]\n",
    "\n",
    "# Вычисление процента\n",
    "percentage = (heart_disease_patients / total_patients) * 100\n",
    "print(f\"Процент пациентов с заболеванием сердца: {percentage:.2f}%\")\n"
   ],
   "execution_count": 4,
   "outputs": [
    {
     "name": "stdout",
     "output_type": "stream",
     "text": [
      "Процент пациентов с заболеванием сердца: 54.46%\n"
     ]
    }
   ]
  },
  {
   "cell_type": "markdown",
   "metadata": {
    "id": "UuXUxx8C-Y0c"
   },
   "source": [
    "Разделим данную выборку на обучающую и тестовую части в отношении 3:1."
   ]
  },
  {
   "cell_type": "code",
   "metadata": {
    "id": "SDAbZBIF-Y0c",
    "outputId": "e54c1faa-62c6-437d-bb9c-e70d3b81312c",
    "colab": {
     "base_uri": "https://localhost:8080/"
    },
    "ExecuteTime": {
     "end_time": "2024-11-04T16:29:19.546553600Z",
     "start_time": "2024-11-04T16:29:18.332167400Z"
    }
   },
   "source": [
    "from sklearn.model_selection import train_test_split\n",
    "X_train, X_test, y_train, y_test = train_test_split(data.drop('target', axis=1), data['target'], test_size=0.25, random_state=13)\n",
    "X_train.shape, X_test.shape"
   ],
   "execution_count": 5,
   "outputs": [
    {
     "data": {
      "text/plain": "((227, 13), (76, 13))"
     },
     "execution_count": 5,
     "metadata": {},
     "output_type": "execute_result"
    }
   ]
  },
  {
   "cell_type": "markdown",
   "metadata": {
    "id": "zx6L2daY-Y0f"
   },
   "source": [
    "2. Обучите линейный классификатор из `sklearn` (`sklearn.linear_model.SGDClassifier`) с максимальным числом итераций `max_iter=1000`, постоянным значением шага градиентного спуска (`learning_rate='constant'`), равным `eta0=0.1`. В качестве сида поставьте `random_state=13`. Параметр регуляризации отключите: `alpha=0`. Класс `sklearn.linear_model.SGDClassifier` объединяет в себе разные линейные модели - чтобы получить логистическую регрессию, зафиксируйте параметр `loss='log'`.\n",
    "\n",
    "   Подробнее о параметрах можно почитать в [документации](https://scikit-learn.org/stable/modules/generated/sklearn.linear_model.SGDClassifier.html).\n",
    "\n",
    "   Какое значение свободного коэффициента у полученного линейного классификатора? Ответ округлите до двух знаков после запятой."
   ]
  },
  {
   "cell_type": "code",
   "metadata": {
    "id": "oEajYrOrRmNM",
    "colab": {
     "base_uri": "https://localhost:8080/"
    },
    "outputId": "ee3cfe90-f62b-4bd4-c90a-aa0a74cc307b",
    "ExecuteTime": {
     "end_time": "2024-11-04T16:29:19.655939600Z",
     "start_time": "2024-11-04T16:29:19.546553600Z"
    }
   },
   "source": [
    "from sklearn.linear_model import SGDClassifier\n",
    "\n",
    "# Создание и настройка классификатора\n",
    "clf = SGDClassifier(max_iter=1000, learning_rate='constant', eta0=0.1, alpha=0, loss='log_loss', random_state=13)\n",
    "\n",
    "# Обучение модели на обучающей выборке\n",
    "clf.fit(X_train, y_train)\n",
    "\n",
    "# Получение значения свободного коэффициента (intercept)\n",
    "intercept = clf.intercept_[0]\n",
    "print(f\"Свободный коэффициент: {intercept:.2f}\")"
   ],
   "execution_count": 6,
   "outputs": [
    {
     "name": "stdout",
     "output_type": "stream",
     "text": [
      "Свободный коэффициент: -1.16\n"
     ]
    }
   ]
  },
  {
   "cell_type": "markdown",
   "metadata": {
    "id": "MpQP-UAy-Y0i"
   },
   "source": [
    "3. Какое значение L2-нормы вектора весов (без учета свободного коэффициента) у полученного линейного классификатора? Ответ округлите до двух знаков после запятой.\n",
    "\n",
    "_Напоминание. L2-норма вектора $v = (v_1, \\ldots, v_n)$ - это корень из суммы квадратов его элементов:_\n",
    "\n",
    "$$\n",
    "\\|v\\|_2 = \\sqrt{\\sum\\limits_{i=1}^nv_i^2}\n",
    "$$"
   ]
  },
  {
   "cell_type": "code",
   "metadata": {
    "id": "L7Yxn8vnRpIX",
    "colab": {
     "base_uri": "https://localhost:8080/"
    },
    "outputId": "a29db1f0-49bf-47b2-af1e-bd26978aad2e",
    "ExecuteTime": {
     "end_time": "2024-11-04T16:29:19.722399100Z",
     "start_time": "2024-11-04T16:29:19.659867500Z"
    }
   },
   "source": [
    "# Получение весов модели (без учета свободного коэффициента)\n",
    "weights = clf.coef_\n",
    "\n",
    "# Вычисление L2-нормы\n",
    "l2_norm = np.sqrt(np.sum(weights**2))\n",
    "l2_norm_rounded = round(l2_norm, 2)\n",
    "print(f\"L2-норма вектора весов: {l2_norm_rounded}\")"
   ],
   "execution_count": 7,
   "outputs": [
    {
     "name": "stdout",
     "output_type": "stream",
     "text": [
      "L2-норма вектора весов: 175.68\n"
     ]
    }
   ]
  },
  {
   "cell_type": "markdown",
   "metadata": {
    "id": "xCAGwry5-Y0k"
   },
   "source": [
    "4. Найдите долю правильных ответов классификатора на тестовой части выборки **(в процентах)**. Ответ округлите до двух знаков после запятой. Например, если значение доли правильных ответов будет равно 0.1234, то ответом будет 12.34 - ведь это 12.34%."
   ]
  },
  {
   "cell_type": "code",
   "metadata": {
    "id": "8ewvCkR2RrAp",
    "colab": {
     "base_uri": "https://localhost:8080/"
    },
    "outputId": "ebeb8411-8a84-471c-da56-0b37c5ce78f7",
    "ExecuteTime": {
     "end_time": "2024-11-04T16:29:19.725674600Z",
     "start_time": "2024-11-04T16:29:19.675504800Z"
    }
   },
   "source": [
    "# Получение доли правильных ответов\n",
    "accuracy = clf.score(X_test, y_test)\n",
    "\n",
    "# Перевод в проценты и округление\n",
    "accuracy_percentage = round(accuracy * 100, 2)\n",
    "print(f\"Доля правильных ответов: {accuracy_percentage:.2f}%\")"
   ],
   "execution_count": 8,
   "outputs": [
    {
     "name": "stdout",
     "output_type": "stream",
     "text": [
      "Доля правильных ответов: 61.84%\n"
     ]
    }
   ]
  },
  {
   "cell_type": "markdown",
   "metadata": {
    "id": "ICrH_Gb_-Y0n"
   },
   "source": [
    "5. В задаче классификации, как и в задаче регрессии, для оптимизации линейных моделей можно применять регуляризацию. Этот метод реализован и в `sklearn.linear_model.SGDClassifier` - параметр регуляризации обозначается параметром `alpha`. За тип регуляризации (L1, L2 или обе сразу) отвечает параметр `penalty`.\n",
    "\n",
    "   Обучите классификатор заново с параметром регуляризации `alpha=0.1` и типом регуляризации `penalty='l1'`. Оставьте максимальное число итераций, равное `max_iter=1000` и сид `random_state=13`. Также вместо постоянного значения шага градиентного спуска используйте оптимальное (`learning_rate='optimal'`), которое, кстати, зависит от `alpha` (о том, как именно он вычисляется и какие еще параметры можно выбрать, можно подробнее прочитать в [документации](https://scikit-learn.org/stable/modules/generated/sklearn.linear_model.SGDClassifier.html)). В данном случае значение начального шага градиентного спуска `eta0` никак не участвует в обучении.\n",
    "   \n",
    "   Отличается ли качество полученного классификатора от качества первого? Какая доля правильных ответов получается теперь на тестовой выборке? Выразите ее **в процентах**, ответ округлите до двух знаков после запятой. Например, если значение доли правильных ответов будет равно 0.1234, то ответом будет 12.34 - ведь это 12.34%."
   ]
  },
  {
   "cell_type": "code",
   "metadata": {
    "id": "1que_LwfRspA",
    "colab": {
     "base_uri": "https://localhost:8080/"
    },
    "outputId": "01d41edf-deb4-427e-d78e-50944af4367d",
    "ExecuteTime": {
     "end_time": "2024-11-04T16:29:19.725674600Z",
     "start_time": "2024-11-04T16:29:19.706774500Z"
    }
   },
   "source": [
    "# Создание и настройка нового классификатора с L1-регуляризацией\n",
    "clf_l1 = SGDClassifier(max_iter=1000, alpha=0.1, penalty='l1', learning_rate='optimal', loss='log_loss', random_state=13)\n",
    "\n",
    "# Обучение модели на обучающей выборке\n",
    "clf_l1.fit(X_train, y_train)\n",
    "\n",
    "# Получение доли правильных ответов на тестовой выборке\n",
    "accuracy_l1 = clf_l1.score(X_test, y_test)\n",
    "\n",
    "# Перевод в проценты и округление\n",
    "accuracy_l1_percentage = round(accuracy_l1 * 100, 2)\n",
    "print(f\"Доля правильных ответов с L1-регуляризацией: {accuracy_l1_percentage:.2f}%\")"
   ],
   "execution_count": 9,
   "outputs": [
    {
     "name": "stdout",
     "output_type": "stream",
     "text": [
      "Доля правильных ответов с L1-регуляризацией: 76.32%\n"
     ]
    }
   ]
  },
  {
   "cell_type": "markdown",
   "metadata": {
    "id": "RWB9OD-4-Y0q"
   },
   "source": [
    "6. Найдите L2-норму вектора весов для полученного классификатора (заметьте, как на нее повлияла регуляризация). Ответ округлите до двух знаков после запятой.\n",
    "\n",
    "    Заметьте, что вектор стал более разреженным, и в нем появились нулевые элементы - это результат действия L1-регуляризации."
   ]
  },
  {
   "cell_type": "code",
   "metadata": {
    "id": "WKYcsHbBRuN0",
    "colab": {
     "base_uri": "https://localhost:8080/"
    },
    "outputId": "aca4e9fa-79da-44d3-9d93-49198a424c92",
    "ExecuteTime": {
     "end_time": "2024-11-04T16:29:19.741331100Z",
     "start_time": "2024-11-04T16:29:19.725674600Z"
    }
   },
   "source": [
    "# Получение весов модели с L1-регуляризацией (без учета свободного коэффициента)\n",
    "weights_l1 = clf_l1.coef_\n",
    "\n",
    "# Вычисление L2-нормы\n",
    "l2_norm_l1 = np.sqrt(np.sum(weights_l1**2))\n",
    "l2_norm_l1_rounded = round(l2_norm_l1, 2)\n",
    "print(f\"L2-норма вектора весов с L1-регуляризацией: {l2_norm_l1_rounded}\")"
   ],
   "execution_count": 10,
   "outputs": [
    {
     "name": "stdout",
     "output_type": "stream",
     "text": [
      "L2-норма вектора весов с L1-регуляризацией: 10.43\n"
     ]
    }
   ]
  },
  {
   "cell_type": "markdown",
   "metadata": {
    "id": "WioWROTf-Y0t"
   },
   "source": [
    "7. Наконец, проверьте, как полученные классификаторы предсказывают не классы, а вероятности классов - так как мы работаем с логистической регрессией, это можно сделать. Посмотрите на вероятности, которые выдает первый классификатор (обученный с постоянным шагом градиентного спуска и без регуляризации) на тестовой части выборки. В этом вам поможет метод `predict_proba`. Результатом его работы будет список размера $N\\times 2$, где $N$ - это число объектов. В каждом столбце списка находятся вероятности соответствующего класса для объектов. Поэтому если вам нужен положительный класс, вас интересует последний столбец.\n",
    "\n",
    "    Какое получается значение AUC-ROC? Ответ округлите до двух знаков после запятой."
   ]
  },
  {
   "cell_type": "code",
   "metadata": {
    "id": "QkuOlmt6RvaD",
    "colab": {
     "base_uri": "https://localhost:8080/"
    },
    "outputId": "f85fa111-b649-4a61-8519-e2908d7abf16",
    "ExecuteTime": {
     "end_time": "2024-11-04T16:29:19.826033Z",
     "start_time": "2024-11-04T16:29:19.741331100Z"
    }
   },
   "source": [
    "from sklearn.metrics import roc_auc_score\n",
    "\n",
    "# Получение вероятностей классов для тестовой выборки\n",
    "probabilities = clf.predict_proba(X_test)\n",
    "\n",
    "# Вероятности положительного класса\n",
    "positive_class_probabilities = probabilities[:, 1]\n",
    "\n",
    "# Вычисление AUC-ROC\n",
    "auc_roc = roc_auc_score(y_test, positive_class_probabilities)\n",
    "\n",
    "# Округление результата до двух знаков\n",
    "auc_roc_rounded = round(auc_roc, 2)\n",
    "print(f\"AUC-ROC: {auc_roc_rounded}\")"
   ],
   "execution_count": 11,
   "outputs": [
    {
     "name": "stdout",
     "output_type": "stream",
     "text": [
      "AUC-ROC: 0.57\n"
     ]
    }
   ]
  },
  {
   "cell_type": "markdown",
   "metadata": {
    "id": "48tbMm0E-Y0w"
   },
   "source": [
    "8. Посмотрите на вероятности, которые выдает второй классификатор (обученный с оптимальным шагом градиентного спуска и с регуляризацией) на тестовой части выборки. Что вы наблюдаете - как отличаются эти вероятности от вероятностей первого классификатора?\n",
    "\n",
    "   Посчитайте значение AUC-ROC второго классификатора. Ответ округлите до двух знаков после запятой."
   ]
  },
  {
   "cell_type": "code",
   "metadata": {
    "id": "71cqXdqBRw5B",
    "colab": {
     "base_uri": "https://localhost:8080/"
    },
    "outputId": "438cd01a-ba31-45aa-ca0b-6d28932d724f",
    "ExecuteTime": {
     "end_time": "2024-11-04T16:29:19.826033Z",
     "start_time": "2024-11-04T16:29:19.775829100Z"
    }
   },
   "source": [
    "from sklearn.metrics import roc_auc_score\n",
    "\n",
    "# Получение вероятностей классов для тестовой выборки с вторым классификатором (с регуляризацией)\n",
    "probabilities_l1 = clf_l1.predict_proba(X_test)\n",
    "\n",
    "# Вероятности положительного класса\n",
    "positive_class_probabilities_l1 = probabilities_l1[:, 1]\n",
    "\n",
    "# Вычисление AUC-ROC для второго классификатора\n",
    "auc_roc_l1 = roc_auc_score(y_test, positive_class_probabilities_l1)\n",
    "\n",
    "# Округление результата до двух знаков\n",
    "auc_roc_l1_rounded = round(auc_roc_l1, 2)\n",
    "print(f\"AUC-ROC для классификатора с L1-регуляризацией: {auc_roc_l1_rounded}\")\n"
   ],
   "execution_count": 12,
   "outputs": [
    {
     "name": "stdout",
     "output_type": "stream",
     "text": [
      "AUC-ROC для классификатора с L1-регуляризацией: 0.86\n"
     ]
    }
   ]
  },
  {
   "cell_type": "markdown",
   "metadata": {
    "id": "7P_Ap9jec0lC"
   },
   "source": [
    "9. Какой признак является самым важным по мнению лучшей модели (имеет наибольший по модулю коэффициент) для принятия решения?"
   ]
  },
  {
   "cell_type": "code",
   "metadata": {
    "id": "2AFsOXMYRyJg",
    "colab": {
     "base_uri": "https://localhost:8080/"
    },
    "outputId": "cecdd6ae-25e3-4a2f-801f-f6a9dd5c7291",
    "ExecuteTime": {
     "end_time": "2024-11-04T16:29:19.826033Z",
     "start_time": "2024-11-04T16:29:19.794747800Z"
    }
   },
   "source": [
    "# Получение весов модели с L1-регуляризацией\n",
    "feature_importances = clf_l1.coef_[0]\n",
    "\n",
    "# Находим индекс самого важного признака\n",
    "most_important_feature_index = np.argmax(np.abs(feature_importances))\n",
    "\n",
    "# Определяем название признака\n",
    "most_important_feature_name = X_train.columns[most_important_feature_index]\n",
    "most_important_feature_value = feature_importances[most_important_feature_index]\n",
    "\n",
    "print(f\"Самый важный признак: {most_important_feature_name}\")\n",
    "print(f\"Его значение (вес): {most_important_feature_value:.2f}\")\n"
   ],
   "execution_count": 13,
   "outputs": [
    {
     "name": "stdout",
     "output_type": "stream",
     "text": [
      "Самый важный признак: cp\n",
      "Его значение (вес): 9.26\n"
     ]
    }
   ]
  }
 ]
}
