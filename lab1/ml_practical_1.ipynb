{
 "nbformat": 4,
 "nbformat_minor": 0,
 "metadata": {
  "kernelspec": {
   "display_name": "Python 3",
   "language": "python",
   "name": "python3"
  },
  "language_info": {
   "codemirror_mode": {
    "name": "ipython",
    "version": 3
   },
   "file_extension": ".py",
   "mimetype": "text/x-python",
   "name": "python",
   "nbconvert_exporter": "python",
   "pygments_lexer": "ipython3",
   "version": "3.6.3"
  },
  "colab": {
   "provenance": []
  }
 },
 "cells": [
  {
   "cell_type": "code",
   "metadata": {
    "id": "mHCbkFpOXAXO",
    "ExecuteTime": {
     "end_time": "2024-11-04T16:28:01.810772900Z",
     "start_time": "2024-11-04T16:28:01.738986300Z"
    }
   },
   "source": [
    "import pandas as pd\n",
    "data = pd.read_csv('math_students.csv', delimiter=',')"
   ],
   "execution_count": 4,
   "outputs": []
  },
  {
   "cell_type": "markdown",
   "metadata": {
    "id": "1n6Q2mr1XAXX"
   },
   "source": [
    "1. Какая причина выбора школы была самой частой? В качестве ответа приведите соответствующее значение признака."
   ]
  },
  {
   "cell_type": "code",
   "metadata": {
    "id": "D_jubmNgXAXY",
    "colab": {
     "base_uri": "https://localhost:8080/",
     "height": 36
    },
    "outputId": "62a76be8-973b-4e23-e8b7-e156613a993b",
    "ExecuteTime": {
     "end_time": "2024-11-04T16:28:01.817803Z",
     "start_time": "2024-11-04T16:28:01.767979600Z"
    }
   },
   "source": [
    "# value_counts() - количество уникальных значений в столбце\n",
    "# idxmax() - значение элемента, который встречается чаще всего\n",
    "\n",
    "data['reason'].value_counts().idxmax()"
   ],
   "execution_count": 5,
   "outputs": [
    {
     "data": {
      "text/plain": "'course'"
     },
     "execution_count": 5,
     "metadata": {},
     "output_type": "execute_result"
    }
   ]
  },
  {
   "cell_type": "markdown",
   "metadata": {
    "id": "02xcWVw0XAXb"
   },
   "source": [
    "2. Найдите количество студентов, у родителей которых нет никакого образования."
   ]
  },
  {
   "cell_type": "code",
   "metadata": {
    "id": "rQCZTAydXAXc",
    "colab": {
     "base_uri": "https://localhost:8080/"
    },
    "outputId": "c4d73540-8a27-40d6-9929-4cb314c9e9f2",
    "ExecuteTime": {
     "end_time": "2024-11-04T16:28:01.817803Z",
     "start_time": "2024-11-04T16:28:01.779846600Z"
    }
   },
   "source": [
    "# находим студентов, у которых оба родителя не имеют образования\n",
    "parents_no_education = data[(data['Medu'] == 0) & (data['Fedu'] == 0)]\n",
    "\n",
    "# shape[0] - количество строк в датафрейме (=число студентов)\n",
    "parents_no_education.shape[0]"
   ],
   "execution_count": 6,
   "outputs": [
    {
     "data": {
      "text/plain": "0"
     },
     "execution_count": 6,
     "metadata": {},
     "output_type": "execute_result"
    }
   ]
  },
  {
   "cell_type": "markdown",
   "metadata": {
    "id": "hPZhCWolXAXg"
   },
   "source": [
    "3. Найдите минимальный возраст учащегося школы Mousinho da Silveira."
   ]
  },
  {
   "cell_type": "code",
   "metadata": {
    "id": "iwbblqO-XAXg",
    "colab": {
     "base_uri": "https://localhost:8080/"
    },
    "outputId": "45af01b9-ddde-4da7-9f29-b17cd9f8b094",
    "ExecuteTime": {
     "end_time": "2024-11-04T16:28:01.833904500Z",
     "start_time": "2024-11-04T16:28:01.801854500Z"
    }
   },
   "source": [
    "# находим учащихся школы\n",
    "students_ms = data[data['school'] == 'MS']\n",
    "\n",
    "# min() - наодит минимальное значение столбца\n",
    "students_ms['age'].min()"
   ],
   "execution_count": 7,
   "outputs": [
    {
     "data": {
      "text/plain": "np.int64(17)"
     },
     "execution_count": 7,
     "metadata": {},
     "output_type": "execute_result"
    }
   ]
  },
  {
   "cell_type": "markdown",
   "metadata": {
    "id": "cINy8kq-XAXk"
   },
   "source": [
    "4. Найдите количество студентов, имеющих нечетное число пропусков."
   ]
  },
  {
   "cell_type": "code",
   "metadata": {
    "id": "0SPhqD6GXAXl",
    "colab": {
     "base_uri": "https://localhost:8080/"
    },
    "outputId": "c4c47c7c-ebdc-4a4c-ec9a-b84b113f8397",
    "ExecuteTime": {
     "end_time": "2024-11-04T16:28:01.845013300Z",
     "start_time": "2024-11-04T16:28:01.817803Z"
    }
   },
   "source": [
    "# находим студентов с нечетным числом пропусков (остаток от деления на 2 не равен нулю)\n",
    "students_odd_absences = data[data['absences'] % 2 != 0]\n",
    "\n",
    "# shape[0] - количество строк в датафрейме\n",
    "students_odd_absences.shape[0]"
   ],
   "execution_count": 8,
   "outputs": [
    {
     "data": {
      "text/plain": "41"
     },
     "execution_count": 8,
     "metadata": {},
     "output_type": "execute_result"
    }
   ]
  },
  {
   "cell_type": "markdown",
   "metadata": {
    "id": "cGd3eKvcXAXo"
   },
   "source": [
    "5. Найдите разность между средними итоговыми оценками студентов, состоящих и не состоящих в романтических отношениях. В качестве ответа приведите число, округленное до двух значащих цифр после запятой."
   ]
  },
  {
   "cell_type": "code",
   "metadata": {
    "id": "tIrAEaCpXAXp",
    "colab": {
     "base_uri": "https://localhost:8080/"
    },
    "outputId": "c7846b23-780b-4b2b-f1fb-481f7ea659b3",
    "ExecuteTime": {
     "end_time": "2024-11-04T16:28:01.913043700Z",
     "start_time": "2024-11-04T16:28:01.837200200Z"
    }
   },
   "source": [
    "# отбираем студентов по признаку romantic\n",
    "# mean() - рассчитываем среднюю итоговую оценку для каждой группы\n",
    "mean_grade_romantic = data[data['romantic'] == 'yes']['G3'].mean()\n",
    "mean_grade_not_romantic = data[data['romantic'] == 'no']['G3'].mean()\n",
    "\n",
    "# находим разность\n",
    "difference = mean_grade_romantic - mean_grade_not_romantic\n",
    "\n",
    "# round() - округляем значение\n",
    "round(difference, 2)"
   ],
   "execution_count": 9,
   "outputs": [
    {
     "data": {
      "text/plain": "np.float64(-1.26)"
     },
     "execution_count": 9,
     "metadata": {},
     "output_type": "execute_result"
    }
   ]
  },
  {
   "cell_type": "markdown",
   "metadata": {
    "id": "m7tyMSA7XAXs"
   },
   "source": [
    "6. Сколько занятий пропустило большинство студентов с самым частым значением наличия внеклассных активностей?\n",
    "\n",
    "*Примечание. В данном контексте под \"большинством\" подразумеваются студенты, имеющее самое частое значение пропусков. То есть в данном задании необходимо:*\n",
    "\n",
    "\n",
    "* *Определить самое частое значение наличия внеклассных активностей (да или нет).*\n",
    "* *Для группы студентов, соответствующей этому значению, рассмотреть значения признака «число пропусков».*\n",
    "* *Для каждого значения числа пропусков посчитать, сколько студентов ему соответствует.*\n",
    "* *Выбрать значение числа пропусков с наибольшим числом студентов.*\n",
    "\n"
   ]
  },
  {
   "cell_type": "code",
   "metadata": {
    "id": "-nb9pAmdX4G9",
    "colab": {
     "base_uri": "https://localhost:8080/"
    },
    "outputId": "48e62ef9-145c-4d9c-a51e-779e5bfbb1b8",
    "ExecuteTime": {
     "end_time": "2024-11-04T16:28:01.931768300Z",
     "start_time": "2024-11-04T16:28:01.850015300Z"
    }
   },
   "source": [
    "# находим наиболее часто встречающееся значение наличия внеклассных активностей\n",
    "most_common_activities = data['activities'].value_counts().idxmax()\n",
    "\n",
    "# находим студентов по этому наиболее частому значению внеклассных активностей\n",
    "students_with_common_activities = data[data['activities'] == most_common_activities]\n",
    "\n",
    "# находим самое частое количество пропусков среди студентов с этим значением активностей\n",
    "students_with_common_activities['absences'].value_counts().idxmax()"
   ],
   "execution_count": 10,
   "outputs": [
    {
     "data": {
      "text/plain": "np.int64(0)"
     },
     "execution_count": 10,
     "metadata": {},
     "output_type": "execute_result"
    }
   ]
  }
 ]
}
